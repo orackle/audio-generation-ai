{
 "cells": [
  {
   "cell_type": "markdown",
   "id": "788e3cbb",
   "metadata": {},
   "source": [
    "# Generating New Music with Artificial Intelligence"
   ]
  },
  {
   "cell_type": "markdown",
   "id": "a7cfed14",
   "metadata": {},
   "source": [
    "## Import Packages"
   ]
  },
  {
   "cell_type": "code",
   "execution_count": null,
   "id": "5e79b8b7",
   "metadata": {},
   "outputs": [],
   "source": [
    "import torchaudio\n",
    "import audiocraft\n",
    "from audiocraft.models import MusicGen\n",
    "from IPython.display import Audio\n",
    "from ipywidgets import Textarea\n",
    "from ipywidgets import Button"
   ]
  },
  {
   "cell_type": "markdown",
   "id": "cea93bb0",
   "metadata": {},
   "source": [
    "## Load Pretrained Model"
   ]
  },
  {
   "cell_type": "code",
   "execution_count": null,
   "id": "a88bf58e",
   "metadata": {},
   "outputs": [],
   "source": [
    "model = MusicGen.get_pretrained('facebook/musicgen-small')"
   ]
  },
  {
   "cell_type": "markdown",
   "id": "3f160220",
   "metadata": {},
   "source": [
    "## Configure Model Parameters"
   ]
  },
  {
   "cell_type": "code",
   "execution_count": null,
   "id": "62cb4868",
   "metadata": {},
   "outputs": [],
   "source": [
    "model.set_generation_params(duration=8)"
   ]
  },
  {
   "cell_type": "markdown",
   "id": "ed216344",
   "metadata": {},
   "source": [
    "## Generate Music"
   ]
  },
  {
   "cell_type": "code",
   "execution_count": null,
   "id": "b833c0bd",
   "metadata": {},
   "outputs": [],
   "source": [
    "results = model.generate(['classic rock song'])\n",
    "sampling_rate = model.sample_rate\n",
    "Audio(results[0].numpy(), rate=sampling_rate)"
   ]
  },
  {
   "cell_type": "markdown",
   "id": "8e18fa75",
   "metadata": {},
   "source": [
    "## Build a Text Input"
   ]
  },
  {
   "cell_type": "code",
   "execution_count": null,
   "id": "5a8b748f",
   "metadata": {},
   "outputs": [],
   "source": [
    "description = Textarea(rows=4)\n",
    "description"
   ]
  },
  {
   "cell_type": "markdown",
   "id": "234acb86",
   "metadata": {},
   "source": [
    "## Generate Button"
   ]
  },
  {
   "cell_type": "code",
   "execution_count": null,
   "id": "2fcc54c6",
   "metadata": {},
   "outputs": [],
   "source": [
    "generate_button = Button(description=\"Generate Tune\")\n",
    "generate_button"
   ]
  },
  {
   "cell_type": "markdown",
   "id": "5e74bf17",
   "metadata": {},
   "source": [
    "## Connect UI to the Model"
   ]
  },
  {
   "cell_type": "code",
   "execution_count": null,
   "id": "6a4690a1",
   "metadata": {},
   "outputs": [],
   "source": [
    "# Create a text area and a button\n",
    "description = Textarea(value='', placeholder='Give a music prompt', disabled=False, rows=4)\n",
    "generate_button = Button(description=\"Generate Tune\")\n",
    "\n",
    "# A function to generate music as prompted\n",
    "def generate_tune(event):\n",
    "    results = model.generate([description.value])\n",
    "    sampling_rate = model.sample_rate\n",
    "    display(Audio(results[0].numpy(), rate=sampling_rate))\n",
    "\n",
    "# Create a click event on the button\n",
    "generate_button.on_click(generate_tune)\n",
    "\n",
    "# Display the UI items\n",
    "display(description)\n",
    "display(generate_button)"
   ]
  },
  {
   "cell_type": "markdown",
   "id": "632b80ec",
   "metadata": {},
   "source": [
    "## Refine Prompts"
   ]
  },
  {
   "cell_type": "code",
   "execution_count": null,
   "id": "a0fdad4f",
   "metadata": {},
   "outputs": [],
   "source": [
    "results = model.generate(['upbeat rock song with guitar solo'])\n",
    "sampling_rate = model.sample_rate\n",
    "Audio(results[0].numpy(), rate=sampling_rate)"
   ]
  },
  {
   "cell_type": "code",
   "execution_count": null,
   "id": "c1dcd298",
   "metadata": {},
   "outputs": [],
   "source": [
    "results = model.generate(['rock song'])\n",
    "sampling_rate = model.sample_rate\n",
    "Audio(results[0].numpy(), rate=sampling_rate)"
   ]
  }
 ],
 "metadata": {},
 "nbformat": 4,
 "nbformat_minor": 5
}
